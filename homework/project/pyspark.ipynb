{
 "cells": [
  {
   "cell_type": "code",
   "execution_count": 1,
   "id": "07de9dc3",
   "metadata": {},
   "outputs": [],
   "source": [
    "import pyspark\n",
    "from pyspark.sql import SparkSession"
   ]
  },
  {
   "cell_type": "code",
   "execution_count": 2,
   "id": "ca5bbb06",
   "metadata": {},
   "outputs": [
    {
     "name": "stderr",
     "output_type": "stream",
     "text": [
      "Setting default log level to \"WARN\".\n",
      "To adjust logging level use sc.setLogLevel(newLevel). For SparkR, use setLogLevel(newLevel).\n"
     ]
    },
    {
     "name": "stdout",
     "output_type": "stream",
     "text": [
      "25/03/24 12:33:15 WARN NativeCodeLoader: Unable to load native-hadoop library for your platform... using builtin-java classes where applicable\n",
      "25/03/24 12:33:16 WARN Utils: Service 'SparkUI' could not bind on port 4040. Attempting port 4041.\n"
     ]
    }
   ],
   "source": [
    "spark = SparkSession.builder \\\n",
    "    .master(\"local[*]\") \\\n",
    "    .appName('test') \\\n",
    "    .getOrCreate()"
   ]
  },
  {
   "cell_type": "code",
   "execution_count": null,
   "id": "d10267f1",
   "metadata": {},
   "outputs": [],
   "source": [
    "!wget https://www.gov.uk/government/uploads/system/uploads/attachment_data/file/355125/anti-social-behaviour-order-statistics-court-level-breaches-0113.csv"
   ]
  },
  {
   "cell_type": "code",
   "execution_count": 4,
   "id": "2a52087c",
   "metadata": {},
   "outputs": [
    {
     "name": "stdout",
     "output_type": "stream",
     "text": [
      "5548 ASBO-2001-2013.csv\n"
     ]
    }
   ],
   "source": [
    "!wc -l ASBO-2001-2013.csv"
   ]
  },
  {
   "cell_type": "code",
   "execution_count": 5,
   "id": "931021a7",
   "metadata": {},
   "outputs": [],
   "source": [
    "df = spark.read \\\n",
    "    .option(\"header\", \"true\") \\\n",
    "    .csv('ASBO-2001-2013.csv')"
   ]
  },
  {
   "cell_type": "code",
   "execution_count": 6,
   "id": "d44b7839",
   "metadata": {},
   "outputs": [
    {
     "data": {
      "text/plain": [
       "StructType([StructField('Year of Breach', StringType(), True), StructField('Age group breach 2', StringType(), True), StructField('Court_breach', StringType(), True), StructField('Sex', StringType(), True), StructField('ASBOs_breached', StringType(), True)])"
      ]
     },
     "execution_count": 6,
     "metadata": {},
     "output_type": "execute_result"
    }
   ],
   "source": [
    "df.schema"
   ]
  },
  {
   "cell_type": "code",
   "execution_count": 7,
   "id": "4249e790",
   "metadata": {},
   "outputs": [],
   "source": [
    "!head -n 1001 ASBO-2001-2013.csv > head.csv"
   ]
  },
  {
   "cell_type": "code",
   "execution_count": 8,
   "id": "6894312c",
   "metadata": {},
   "outputs": [],
   "source": [
    "import pandas as pd"
   ]
  },
  {
   "cell_type": "code",
   "execution_count": 9,
   "id": "f3ca771b",
   "metadata": {},
   "outputs": [],
   "source": [
    "df_pandas = pd.read_csv('head.csv')"
   ]
  },
  {
   "cell_type": "code",
   "execution_count": 12,
   "id": "9a19612a-58e1-41bc-a5f2-f137822a49c6",
   "metadata": {},
   "outputs": [
    {
     "data": {
      "text/html": [
       "<div>\n",
       "<style scoped>\n",
       "    .dataframe tbody tr th:only-of-type {\n",
       "        vertical-align: middle;\n",
       "    }\n",
       "\n",
       "    .dataframe tbody tr th {\n",
       "        vertical-align: top;\n",
       "    }\n",
       "\n",
       "    .dataframe thead th {\n",
       "        text-align: right;\n",
       "    }\n",
       "</style>\n",
       "<table border=\"1\" class=\"dataframe\">\n",
       "  <thead>\n",
       "    <tr style=\"text-align: right;\">\n",
       "      <th></th>\n",
       "      <th>Year of Breach</th>\n",
       "      <th>Age group breach 2</th>\n",
       "      <th>Court_breach</th>\n",
       "      <th>Sex</th>\n",
       "      <th>ASBOs_breached</th>\n",
       "    </tr>\n",
       "  </thead>\n",
       "  <tbody>\n",
       "    <tr>\n",
       "      <th>0</th>\n",
       "      <td>2002</td>\n",
       "      <td>18+</td>\n",
       "      <td>Abingdon, Didcot and Wantage Magistrates' Court</td>\n",
       "      <td>1</td>\n",
       "      <td>1</td>\n",
       "    </tr>\n",
       "    <tr>\n",
       "      <th>1</th>\n",
       "      <td>2004</td>\n",
       "      <td>18+</td>\n",
       "      <td>Abingdon, Didcot and Wantage Magistrates' Court</td>\n",
       "      <td>1</td>\n",
       "      <td>1</td>\n",
       "    </tr>\n",
       "    <tr>\n",
       "      <th>2</th>\n",
       "      <td>2005</td>\n",
       "      <td>18+</td>\n",
       "      <td>Abingdon, Didcot and Wantage Magistrates' Court</td>\n",
       "      <td>2</td>\n",
       "      <td>1</td>\n",
       "    </tr>\n",
       "    <tr>\n",
       "      <th>3</th>\n",
       "      <td>2008</td>\n",
       "      <td>18+</td>\n",
       "      <td>Abingdon, Didcot and Wantage Magistrates' Court</td>\n",
       "      <td>2</td>\n",
       "      <td>1</td>\n",
       "    </tr>\n",
       "    <tr>\n",
       "      <th>4</th>\n",
       "      <td>2009</td>\n",
       "      <td>18+</td>\n",
       "      <td>Abingdon, Didcot and Wantage Magistrates' Court</td>\n",
       "      <td>1</td>\n",
       "      <td>2</td>\n",
       "    </tr>\n",
       "    <tr>\n",
       "      <th>...</th>\n",
       "      <td>...</td>\n",
       "      <td>...</td>\n",
       "      <td>...</td>\n",
       "      <td>...</td>\n",
       "      <td>...</td>\n",
       "    </tr>\n",
       "    <tr>\n",
       "      <th>995</th>\n",
       "      <td>2007</td>\n",
       "      <td>'10-17</td>\n",
       "      <td>Derby &amp; South Derbyshire Magistrates' Court</td>\n",
       "      <td>1</td>\n",
       "      <td>1</td>\n",
       "    </tr>\n",
       "    <tr>\n",
       "      <th>996</th>\n",
       "      <td>2007</td>\n",
       "      <td>18+</td>\n",
       "      <td>Derby &amp; South Derbyshire Magistrates' Court</td>\n",
       "      <td>1</td>\n",
       "      <td>6</td>\n",
       "    </tr>\n",
       "    <tr>\n",
       "      <th>997</th>\n",
       "      <td>2003</td>\n",
       "      <td>18+</td>\n",
       "      <td>Derby Crown Court</td>\n",
       "      <td>1</td>\n",
       "      <td>1</td>\n",
       "    </tr>\n",
       "    <tr>\n",
       "      <th>998</th>\n",
       "      <td>2004</td>\n",
       "      <td>18+</td>\n",
       "      <td>Derby Crown Court</td>\n",
       "      <td>1</td>\n",
       "      <td>1</td>\n",
       "    </tr>\n",
       "    <tr>\n",
       "      <th>999</th>\n",
       "      <td>2005</td>\n",
       "      <td>'10-17</td>\n",
       "      <td>Derby Crown Court</td>\n",
       "      <td>1</td>\n",
       "      <td>1</td>\n",
       "    </tr>\n",
       "  </tbody>\n",
       "</table>\n",
       "<p>1000 rows × 5 columns</p>\n",
       "</div>"
      ],
      "text/plain": [
       "     Year of Breach Age group breach 2  \\\n",
       "0              2002                18+   \n",
       "1              2004                18+   \n",
       "2              2005                18+   \n",
       "3              2008                18+   \n",
       "4              2009                18+   \n",
       "..              ...                ...   \n",
       "995            2007             '10-17   \n",
       "996            2007                18+   \n",
       "997            2003                18+   \n",
       "998            2004                18+   \n",
       "999            2005             '10-17   \n",
       "\n",
       "                                        Court_breach  Sex  ASBOs_breached  \n",
       "0    Abingdon, Didcot and Wantage Magistrates' Court    1               1  \n",
       "1    Abingdon, Didcot and Wantage Magistrates' Court    1               1  \n",
       "2    Abingdon, Didcot and Wantage Magistrates' Court    2               1  \n",
       "3    Abingdon, Didcot and Wantage Magistrates' Court    2               1  \n",
       "4    Abingdon, Didcot and Wantage Magistrates' Court    1               2  \n",
       "..                                               ...  ...             ...  \n",
       "995      Derby & South Derbyshire Magistrates' Court    1               1  \n",
       "996      Derby & South Derbyshire Magistrates' Court    1               6  \n",
       "997                                Derby Crown Court    1               1  \n",
       "998                                Derby Crown Court    1               1  \n",
       "999                                Derby Crown Court    1               1  \n",
       "\n",
       "[1000 rows x 5 columns]"
      ]
     },
     "execution_count": 12,
     "metadata": {},
     "output_type": "execute_result"
    }
   ],
   "source": [
    "df_pandas"
   ]
  },
  {
   "cell_type": "code",
   "execution_count": 10,
   "id": "f1066b4f",
   "metadata": {},
   "outputs": [
    {
     "data": {
      "text/plain": [
       "Year of Breach         int64\n",
       "Age group breach 2    object\n",
       "Court_breach          object\n",
       "Sex                    int64\n",
       "ASBOs_breached         int64\n",
       "dtype: object"
      ]
     },
     "execution_count": 10,
     "metadata": {},
     "output_type": "execute_result"
    }
   ],
   "source": [
    "df_pandas.dtypes"
   ]
  },
  {
   "cell_type": "markdown",
   "id": "80f252c1",
   "metadata": {},
   "source": [
    "Integer - 4 bytes\n",
    "Long - 8 bytes"
   ]
  },
  {
   "cell_type": "code",
   "execution_count": 14,
   "id": "16937bfd",
   "metadata": {},
   "outputs": [],
   "source": [
    "from pyspark.sql import types"
   ]
  },
  {
   "cell_type": "code",
   "execution_count": 15,
   "id": "fc61a99a",
   "metadata": {},
   "outputs": [],
   "source": [
    "schema = types.StructType([\n",
    "    types.StructField('Year of Breach', types.IntegerType(), True),\n",
    "    types.StructField('Age group breach 2', types.StringType(), True),\n",
    "    types.StructField('Court_breach', types.StringType(), True),\n",
    "    types.StructField('Sex', types.IntegerType(), True),\n",
    "    types.StructField('ASBOs_breached', types.IntegerType(), True),\n",
    "])"
   ]
  },
  {
   "cell_type": "code",
   "execution_count": 16,
   "id": "f94052ae",
   "metadata": {},
   "outputs": [],
   "source": [
    "df = spark.read \\\n",
    "    .option(\"header\", \"true\") \\\n",
    "    .schema(schema) \\\n",
    "    .csv('ASBO-2001-2013.csv')"
   ]
  },
  {
   "cell_type": "code",
   "execution_count": 17,
   "id": "c270d9d6",
   "metadata": {},
   "outputs": [],
   "source": [
    "df = df.repartition(24)"
   ]
  },
  {
   "cell_type": "code",
   "execution_count": 18,
   "id": "7796c2b2",
   "metadata": {},
   "outputs": [
    {
     "name": "stderr",
     "output_type": "stream",
     "text": [
      "                                                                                \r"
     ]
    }
   ],
   "source": [
    "df.write.parquet('ASBO/2001-2013/')"
   ]
  },
  {
   "cell_type": "code",
   "execution_count": 19,
   "id": "c3cab876",
   "metadata": {},
   "outputs": [],
   "source": [
    "df = spark.read.parquet('ASBO/2001-2013/')"
   ]
  },
  {
   "cell_type": "code",
   "execution_count": 20,
   "id": "203b5627",
   "metadata": {},
   "outputs": [
    {
     "name": "stdout",
     "output_type": "stream",
     "text": [
      "root\n",
      " |-- Year of Breach: integer (nullable = true)\n",
      " |-- Age group breach 2: string (nullable = true)\n",
      " |-- Court_breach: string (nullable = true)\n",
      " |-- Sex: integer (nullable = true)\n",
      " |-- ASBOs_breached: integer (nullable = true)\n",
      "\n"
     ]
    }
   ],
   "source": [
    "df.printSchema()"
   ]
  },
  {
   "cell_type": "markdown",
   "id": "64172a47",
   "metadata": {},
   "source": [
    "SELECT * FROM df WHERE Sex =  1"
   ]
  },
  {
   "cell_type": "code",
   "execution_count": 21,
   "id": "d24840a0",
   "metadata": {},
   "outputs": [],
   "source": [
    "from pyspark.sql import functions as F"
   ]
  },
  {
   "cell_type": "code",
   "execution_count": 22,
   "id": "3ab1ca44",
   "metadata": {
    "scrolled": true
   },
   "outputs": [
    {
     "name": "stdout",
     "output_type": "stream",
     "text": [
      "+--------------+------------------+--------------------+---+--------------+\n",
      "|Year of Breach|Age group breach 2|        Court_breach|Sex|ASBOs_breached|\n",
      "+--------------+------------------+--------------------+---+--------------+\n",
      "|          2009|               18+|Sussex (Eastern) ...|  1|             8|\n",
      "|          2012|               18+|Batley and Dewsbu...|  1|             1|\n",
      "|          2010|               18+|Northampton Magis...|  1|             4|\n",
      "|          2008|               18+|Northampton Magis...|  1|             3|\n",
      "|          2009|            '10-17|North Durham Yout...|  1|             2|\n",
      "|          2002|            '10-17|City of Salford Y...|  1|             1|\n",
      "|          2003|            '10-17|South East Wiltsh...|  1|             1|\n",
      "|          2011|               18+|Barking and Dagen...|  1|             2|\n",
      "|          2010|               18+|Reading Magistrat...|  1|             3|\n",
      "|          2013|               18+|Norfolk Magistrat...|  1|             1|\n",
      "|          2006|               18+|Harrow Gore Magis...|  1|             3|\n",
      "|          2010|               18+|Tonbridge and Mal...|  1|             1|\n",
      "|          2013|            '10-17|Leicester, Market...|  1|             1|\n",
      "|          2013|               18+|Central London Ma...|  2|             1|\n",
      "|          2007|               18+|Luton and South B...|  1|             2|\n",
      "|          2012|               18+|   Leeds Crown Court|  1|             1|\n",
      "|          2010|               18+|Vale of Glamorgan...|  1|             1|\n",
      "|          2013|            '10-17|Calderdale Magist...|  1|             1|\n",
      "|          2013|               18+| Bristol Crown Court|  1|             1|\n",
      "|          2002|            '10-17|Sussex (Eastern) ...|  1|             1|\n",
      "+--------------+------------------+--------------------+---+--------------+\n",
      "only showing top 20 rows\n",
      "\n"
     ]
    }
   ],
   "source": [
    "df.show()"
   ]
  }
 ],
 "metadata": {
  "kernelspec": {
   "display_name": "Python 3 (ipykernel)",
   "language": "python",
   "name": "python3"
  },
  "language_info": {
   "codemirror_mode": {
    "name": "ipython",
    "version": 3
   },
   "file_extension": ".py",
   "mimetype": "text/x-python",
   "name": "python",
   "nbconvert_exporter": "python",
   "pygments_lexer": "ipython3",
   "version": "3.12.7"
  }
 },
 "nbformat": 4,
 "nbformat_minor": 5
}
