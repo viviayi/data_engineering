{
 "cells": [
  {
   "cell_type": "code",
   "execution_count": 1,
   "id": "b246c175-6277-456e-a1d6-0a310a98f072",
   "metadata": {},
   "outputs": [],
   "source": [
    "import pyspark\n",
    "from pyspark.sql import SparkSession"
   ]
  },
  {
   "cell_type": "code",
   "execution_count": 4,
   "id": "31de9fb7-0491-4078-9360-64b6a9db822f",
   "metadata": {},
   "outputs": [
    {
     "name": "stderr",
     "output_type": "stream",
     "text": [
      "                                                                                \r"
     ]
    }
   ],
   "source": [
    "spark = SparkSession.builder.master(\"local[*]\").appName('test').getOrCreate()\n",
    "\n",
    "df = spark.read.parquet('data/yellow_tripdata_2024-10.parquet')\n",
    "df = df.repartition(4)\n",
    "df.write.parquet('data/pq/')"
   ]
  },
  {
   "cell_type": "code",
   "execution_count": 8,
   "id": "6e11729d-8bf0-4c88-a00e-c44ad00403b7",
   "metadata": {},
   "outputs": [
    {
     "data": {
      "text/plain": [
       "StructType([StructField('VendorID', IntegerType(), True), StructField('tpep_pickup_datetime', TimestampType(), True), StructField('tpep_dropoff_datetime', TimestampType(), True), StructField('passenger_count', LongType(), True), StructField('trip_distance', DoubleType(), True), StructField('RatecodeID', LongType(), True), StructField('store_and_fwd_flag', StringType(), True), StructField('PULocationID', IntegerType(), True), StructField('DOLocationID', IntegerType(), True), StructField('payment_type', LongType(), True), StructField('fare_amount', DoubleType(), True), StructField('extra', DoubleType(), True), StructField('mta_tax', DoubleType(), True), StructField('tip_amount', DoubleType(), True), StructField('tolls_amount', DoubleType(), True), StructField('improvement_surcharge', DoubleType(), True), StructField('total_amount', DoubleType(), True), StructField('congestion_surcharge', DoubleType(), True), StructField('Airport_fee', DoubleType(), True)])"
      ]
     },
     "execution_count": 8,
     "metadata": {},
     "output_type": "execute_result"
    }
   ],
   "source": [
    "df.schema"
   ]
  },
  {
   "cell_type": "code",
   "execution_count": 7,
   "id": "68fb6f66-cd66-4ae7-8aa6-d9d659359344",
   "metadata": {},
   "outputs": [
    {
     "name": "stderr",
     "output_type": "stream",
     "text": [
      "[Stage 10:==============>                                           (1 + 3) / 4]\r"
     ]
    },
    {
     "name": "stdout",
     "output_type": "stream",
     "text": [
      "+--------+\n",
      "|count(1)|\n",
      "+--------+\n",
      "|  127993|\n",
      "+--------+\n",
      "\n"
     ]
    },
    {
     "name": "stderr",
     "output_type": "stream",
     "text": [
      "                                                                                \r"
     ]
    }
   ],
   "source": [
    "df.registerTempTable('trips_data')  \n",
    "\n",
    "spark.sql(\"\"\"\n",
    "\n",
    "SELECT count(1) FROM trips_data \n",
    "WHERE DATE(tpep_pickup_datetime) = '2024-10-15' AND DATE(tpep_dropoff_datetime) = '2024-10-15';\n",
    "\"\"\").show()"
   ]
  },
  {
   "cell_type": "code",
   "execution_count": 9,
   "id": "1be4041b-ced3-4667-a57b-9d62878a98b0",
   "metadata": {},
   "outputs": [
    {
     "name": "stderr",
     "output_type": "stream",
     "text": [
      "[Stage 18:>                                                         (0 + 4) / 4]\r"
     ]
    },
    {
     "name": "stdout",
     "output_type": "stream",
     "text": [
      "+------------------+\n",
      "|     trip_duration|\n",
      "+------------------+\n",
      "|162.61777777777777|\n",
      "+------------------+\n",
      "\n"
     ]
    },
    {
     "name": "stderr",
     "output_type": "stream",
     "text": [
      "                                                                                \r"
     ]
    }
   ],
   "source": [
    "spark.sql(\"\"\"\n",
    "SELECT \n",
    "    (unix_timestamp(tpep_dropoff_datetime) - unix_timestamp(tpep_pickup_datetime)) / 3600 AS trip_duration\n",
    "FROM trips_data\n",
    "ORDER BY trip_duration DESC\n",
    "LIMIT 1;\n",
    "\"\"\").show() "
   ]
  },
  {
   "cell_type": "code",
   "execution_count": 11,
   "id": "37b4248d-168f-4009-972e-7aab5353ef93",
   "metadata": {},
   "outputs": [
    {
     "name": "stderr",
     "output_type": "stream",
     "text": [
      "[Stage 24:>                                                         (0 + 4) / 4]\r"
     ]
    },
    {
     "name": "stdout",
     "output_type": "stream",
     "text": [
      "+--------------------+---------+\n",
      "|                Zone|num_trips|\n",
      "+--------------------+---------+\n",
      "|Governor's Island...|        1|\n",
      "|       Rikers Island|        2|\n",
      "|       Arden Heights|        2|\n",
      "|         Jamaica Bay|        3|\n",
      "| Green-Wood Cemetery|        3|\n",
      "|Charleston/Totten...|        4|\n",
      "|Eltingville/Annad...|        4|\n",
      "|   Rossville/Woodrow|        4|\n",
      "|       Port Richmond|        4|\n",
      "|       West Brighton|        4|\n",
      "|        Crotona Park|        6|\n",
      "|         Great Kills|        6|\n",
      "|     Mariners Harbor|        7|\n",
      "|Heartland Village...|        7|\n",
      "|Saint George/New ...|        9|\n",
      "|             Oakwood|        9|\n",
      "|       Broad Channel|       10|\n",
      "|New Dorp/Midland ...|       10|\n",
      "|         Westerleigh|       12|\n",
      "|     Pelham Bay Park|       12|\n",
      "+--------------------+---------+\n",
      "only showing top 20 rows\n",
      "\n"
     ]
    },
    {
     "name": "stderr",
     "output_type": "stream",
     "text": [
      "                                                                                \r"
     ]
    }
   ],
   "source": [
    "\n",
    "lookup_df = spark.read.option(\"header\", \"true\").csv('taxi_zone_lookup.csv')\n",
    "\n",
    "lookup_df.registerTempTable('lookup')  \n",
    "\n",
    "spark.sql(\"\"\"\n",
    "\n",
    "SELECT lookup.Zone , count(1) as num_trips FROM trips_data \n",
    "INNER JOIN lookup ON lookup.LocationID = trips_data.PULocationID\n",
    "GROUP BY lookup.Zone\n",
    "ORDER BY num_trips ASC;\n",
    "\"\"\").show()  \n"
   ]
  },
  {
   "cell_type": "code",
   "execution_count": null,
   "id": "1890cd63-0253-4be0-a9b4-8b799d24baa0",
   "metadata": {},
   "outputs": [],
   "source": []
  }
 ],
 "metadata": {
  "kernelspec": {
   "display_name": "Python 3 (ipykernel)",
   "language": "python",
   "name": "python3"
  },
  "language_info": {
   "codemirror_mode": {
    "name": "ipython",
    "version": 3
   },
   "file_extension": ".py",
   "mimetype": "text/x-python",
   "name": "python",
   "nbconvert_exporter": "python",
   "pygments_lexer": "ipython3",
   "version": "3.12.7"
  }
 },
 "nbformat": 4,
 "nbformat_minor": 5
}
