{
 "cells": [
  {
   "cell_type": "code",
   "execution_count": 1,
   "id": "7c935593-fc34-48af-8f3f-f13ce97aedd0",
   "metadata": {},
   "outputs": [],
   "source": [
    "import json\n",
    "from kafka import KafkaProducer"
   ]
  },
  {
   "cell_type": "code",
   "execution_count": 2,
   "id": "1170a09a-482a-48d1-a3df-6e11f4123891",
   "metadata": {},
   "outputs": [],
   "source": [
    "def json_serializer(data):\n",
    "    return json.dumps(data).encode('utf-8')"
   ]
  },
  {
   "cell_type": "code",
   "execution_count": 3,
   "id": "94497942-5430-436e-ac76-08dd467017d0",
   "metadata": {},
   "outputs": [],
   "source": [
    "server = 'localhost:9092'"
   ]
  },
  {
   "cell_type": "code",
   "execution_count": 4,
   "id": "55945df6-e2ed-418f-ba5a-6054677e183f",
   "metadata": {},
   "outputs": [],
   "source": [
    "producer = KafkaProducer(\n",
    "    bootstrap_servers=[server],\n",
    "    value_serializer=json_serializer\n",
    ")"
   ]
  },
  {
   "cell_type": "code",
   "execution_count": 5,
   "id": "a606f11e-32d8-4000-9c2b-ecf91ebaaa8d",
   "metadata": {},
   "outputs": [
    {
     "data": {
      "text/plain": [
       "True"
      ]
     },
     "execution_count": 5,
     "metadata": {},
     "output_type": "execute_result"
    }
   ],
   "source": [
    "producer.bootstrap_connected()"
   ]
  },
  {
   "cell_type": "code",
   "execution_count": null,
   "id": "5d42ba4f-ba88-436d-b9ab-a6bd309c31b8",
   "metadata": {},
   "outputs": [],
   "source": [
    "!wget https://github.com/DataTalksClub/nyc-tlc-data/releases/download/green/green_tripdata_2019-10.csv.gz"
   ]
  },
  {
   "cell_type": "code",
   "execution_count": 8,
   "id": "ffe6dcc2-23e3-4025-a676-12a126668342",
   "metadata": {},
   "outputs": [],
   "source": [
    "!gzip -d green_tripdata_2019-10.csv.gz"
   ]
  },
  {
   "cell_type": "code",
   "execution_count": 9,
   "id": "b0820bfc-5ebe-41b6-879e-ddd9fdef0c21",
   "metadata": {},
   "outputs": [],
   "source": [
    "selected_columns = {\n",
    "    'lpep_pickup_datetime',\n",
    "    'lpep_dropoff_datetime',\n",
    "    'PULocationID',\n",
    "    'DOLocationID',\n",
    "    'passenger_count',\n",
    "    'trip_distance',\n",
    "    'tip_amount'\n",
    "}"
   ]
  },
  {
   "cell_type": "code",
   "execution_count": 10,
   "id": "16b7ba64-ec63-487f-ab1e-419ae9267d32",
   "metadata": {},
   "outputs": [],
   "source": [
    "csv_file = \"green_tripdata_2019-10.csv\""
   ]
  },
  {
   "cell_type": "code",
   "execution_count": 12,
   "id": "e64b5b86-fb01-4fa4-ae06-1664b477f83b",
   "metadata": {},
   "outputs": [],
   "source": [
    "import csv"
   ]
  },
  {
   "cell_type": "code",
   "execution_count": 13,
   "id": "446c58b1-bbab-4dae-954b-e27f40f4c0d8",
   "metadata": {},
   "outputs": [],
   "source": [
    "from time import time\n",
    "t0 = time()\n",
    "# 读取 CSV 并筛选指定列\n",
    "with open(csv_file, 'r', newline='', encoding='utf-8') as file:\n",
    "    reader = csv.DictReader(file)\n",
    "\n",
    "    for row in reader:\n",
    "        filtered_row = {key: row[key] for key in selected_columns if key in row}\n",
    "        producer.send('green-trips', value=filtered_row)\n",
    "producer.flush()\n",
    "t1 = time()\n",
    "took = t1 - t0"
   ]
  },
  {
   "cell_type": "code",
   "execution_count": 14,
   "id": "6fa46e07-2712-4304-a244-323f20d486e5",
   "metadata": {},
   "outputs": [
    {
     "data": {
      "text/plain": [
       "39.53789710998535"
      ]
     },
     "execution_count": 14,
     "metadata": {},
     "output_type": "execute_result"
    }
   ],
   "source": [
    "took"
   ]
  },
  {
   "cell_type": "code",
   "execution_count": null,
   "id": "75489cfa-0858-4846-affc-80668da54245",
   "metadata": {},
   "outputs": [],
   "source": []
  }
 ],
 "metadata": {
  "kernelspec": {
   "display_name": "Python 3 (ipykernel)",
   "language": "python",
   "name": "python3"
  },
  "language_info": {
   "codemirror_mode": {
    "name": "ipython",
    "version": 3
   },
   "file_extension": ".py",
   "mimetype": "text/x-python",
   "name": "python",
   "nbconvert_exporter": "python",
   "pygments_lexer": "ipython3",
   "version": "3.12.7"
  }
 },
 "nbformat": 4,
 "nbformat_minor": 5
}
